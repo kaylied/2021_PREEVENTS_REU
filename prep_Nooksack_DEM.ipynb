{
 "cells": [
  {
   "cell_type": "code",
   "execution_count": 11,
   "id": "60fdba20",
   "metadata": {},
   "outputs": [],
   "source": [
    "import os\n",
    "import numpy as np\n",
    "from landlab.io import read_esri_ascii, write_esri_ascii\n",
    "from landlab import imshow_grid_at_node\n",
    "from landlab.components import ChannelProfiler, FlowAccumulator\n",
    "import matplotlib.pyplot as mp"
   ]
  },
  {
   "cell_type": "code",
   "execution_count": 2,
   "id": "b9462b81",
   "metadata": {},
   "outputs": [],
   "source": [
    "fname = os.path.join(r'dem_30m.asc')\n",
    "mg, z = read_esri_ascii(fname, name='topographic__elevation')"
   ]
  },
  {
   "cell_type": "code",
   "execution_count": 5,
   "id": "35e88eeb",
   "metadata": {},
   "outputs": [],
   "source": [
    "nodata = -9999.\n",
    "mg.status_at_node[np.isclose(z, nodata)] = mg.BC_NODE_IS_CLOSED"
   ]
  },
  {
   "cell_type": "code",
   "execution_count": 6,
   "id": "c524327d",
   "metadata": {},
   "outputs": [
    {
     "ename": "ValueError",
     "evalue": "Grid has two potential outlet nodes.They have the following node IDs: \n[408536 411983 411984 411985 411986]\nUse the method set_watershed_boundary_condition_outlet_id to explicitly select one of these IDs as the outlet node.",
     "output_type": "error",
     "traceback": [
      "\u001b[1;31m---------------------------------------------------------------------------\u001b[0m",
      "\u001b[1;31mValueError\u001b[0m                                Traceback (most recent call last)",
      "\u001b[1;32m<ipython-input-6-dceb1d532ea6>\u001b[0m in \u001b[0;36m<module>\u001b[1;34m\u001b[0m\n\u001b[1;32m----> 1\u001b[1;33m \u001b[0mmg\u001b[0m\u001b[1;33m.\u001b[0m\u001b[0mset_watershed_boundary_condition\u001b[0m\u001b[1;33m(\u001b[0m\u001b[1;34m'topographic__elevation'\u001b[0m\u001b[1;33m,\u001b[0m \u001b[0mnodata\u001b[0m\u001b[1;33m,\u001b[0m \u001b[1;32mTrue\u001b[0m\u001b[1;33m)\u001b[0m\u001b[1;33m\u001b[0m\u001b[1;33m\u001b[0m\u001b[0m\n\u001b[0m",
      "\u001b[1;32m~\\Anaconda3\\envs\\landlab_notebooks\\lib\\site-packages\\landlab\\grid\\raster.py\u001b[0m in \u001b[0;36mset_watershed_boundary_condition\u001b[1;34m(self, node_data, nodata_value, return_outlet_id, remove_disconnected, adjacency_method)\u001b[0m\n\u001b[0;32m   1995\u001b[0m                 \u001b[1;32mif\u001b[0m \u001b[0msum\u001b[0m\u001b[1;33m(\u001b[0m\u001b[0mnext_to_boundary\u001b[0m\u001b[1;33m)\u001b[0m \u001b[1;33m>\u001b[0m \u001b[1;36m1\u001b[0m\u001b[1;33m:\u001b[0m\u001b[1;33m\u001b[0m\u001b[1;33m\u001b[0m\u001b[0m\n\u001b[0;32m   1996\u001b[0m                     \u001b[0mpotential_locs\u001b[0m \u001b[1;33m=\u001b[0m \u001b[0mmin_locs\u001b[0m\u001b[1;33m[\u001b[0m\u001b[0mnp\u001b[0m\u001b[1;33m.\u001b[0m\u001b[0mwhere\u001b[0m\u001b[1;33m(\u001b[0m\u001b[0mnp\u001b[0m\u001b[1;33m.\u001b[0m\u001b[0masarray\u001b[0m\u001b[1;33m(\u001b[0m\u001b[0mnext_to_boundary\u001b[0m\u001b[1;33m)\u001b[0m\u001b[1;33m)\u001b[0m\u001b[1;33m[\u001b[0m\u001b[1;36m0\u001b[0m\u001b[1;33m]\u001b[0m\u001b[1;33m]\u001b[0m\u001b[1;33m\u001b[0m\u001b[1;33m\u001b[0m\u001b[0m\n\u001b[1;32m-> 1997\u001b[1;33m                     raise ValueError(\n\u001b[0m\u001b[0;32m   1998\u001b[0m                         (\n\u001b[0;32m   1999\u001b[0m                             \u001b[1;34m\"Grid has two potential outlet nodes.\"\u001b[0m\u001b[1;33m\u001b[0m\u001b[1;33m\u001b[0m\u001b[0m\n",
      "\u001b[1;31mValueError\u001b[0m: Grid has two potential outlet nodes.They have the following node IDs: \n[408536 411983 411984 411985 411986]\nUse the method set_watershed_boundary_condition_outlet_id to explicitly select one of these IDs as the outlet node."
     ]
    }
   ],
   "source": [
    "mg.set_watershed_boundary_condition('topographic__elevation', nodata, True)"
   ]
  },
  {
   "cell_type": "code",
   "execution_count": 7,
   "id": "bd99c23d",
   "metadata": {},
   "outputs": [],
   "source": [
    "mg.status_at_node[408536] = mg.BC_NODE_IS_FIXED_VALUE #this makes the flow accumulator run a ton faster!"
   ]
  },
  {
   "cell_type": "code",
   "execution_count": 8,
   "id": "274f063f",
   "metadata": {},
   "outputs": [],
   "source": [
    "fa = FlowAccumulator(mg, \n",
    "                     'topographic__elevation',\n",
    "                     flow_director='D8',\n",
    "                     depression_finder='DepressionFinderAndRouter')\n",
    "fa.run_one_step()"
   ]
  },
  {
   "cell_type": "code",
   "execution_count": 12,
   "id": "9ad46ac5",
   "metadata": {},
   "outputs": [
    {
     "data": {
      "text/plain": [
       "562035.0"
      ]
     },
     "execution_count": 12,
     "metadata": {},
     "output_type": "execute_result"
    }
   ],
   "source": [
    "mg.x_of_node[408536]"
   ]
  },
  {
   "cell_type": "code",
   "execution_count": 17,
   "id": "e96897ae",
   "metadata": {},
   "outputs": [],
   "source": [
    "pot_outlets = [408536, 411983, 411984, 411985, 411986]"
   ]
  },
  {
   "cell_type": "code",
   "execution_count": 16,
   "id": "d3295a47",
   "metadata": {},
   "outputs": [
    {
     "data": {
      "text/plain": [
       "<matplotlib.collections.PathCollection at 0x1de0443dd60>"
      ]
     },
     "execution_count": 16,
     "metadata": {},
     "output_type": "execute_result"
    },
    {
     "data": {
      "image/png": "[encoded data removed]",
      "text/plain": [
       "<Figure size 432x288 with 2 Axes>"
      ]
     },
     "metadata": {
      "needs_background": "light"
     },
     "output_type": "display_data"
    }
   ],
   "source": [
    "f, ax = mp.subplots()\n",
    "imshow_grid_at_node(mg,\n",
    "                    mg.at_node['surface_water__discharge'],\n",
    "                    colorbar_label='discharge',\n",
    "                    color_for_closed=None)\n",
    "for node in pot_outlets:\n",
    "    \n",
    "    ax.scatter(mg.x_of_node[node], mg.y_of_node[408536])"
   ]
  },
  {
   "cell_type": "code",
   "execution_count": null,
   "id": "474fb45b",
   "metadata": {},
   "outputs": [],
   "source": []
  }
 ],
 "metadata": {
  "kernelspec": {
   "display_name": "Python 3",
   "language": "python",
   "name": "python3"
  },
  "language_info": {
   "codemirror_mode": {
    "name": "ipython",
    "version": 3
   },
   "file_extension": ".py",
   "mimetype": "text/x-python",
   "name": "python",
   "nbconvert_exporter": "python",
   "pygments_lexer": "ipython3",
   "version": "3.8.10"
  }
 },
 "nbformat": 4,
 "nbformat_minor": 5
}
